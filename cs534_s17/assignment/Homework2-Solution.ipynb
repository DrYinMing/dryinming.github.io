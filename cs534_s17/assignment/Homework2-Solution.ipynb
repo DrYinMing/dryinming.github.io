{
 "cells": [
  {
   "cell_type": "markdown",
   "metadata": {},
   "source": [
    "# Homework 2 Solutions"
   ]
  },
  {
   "cell_type": "markdown",
   "metadata": {},
   "source": [
    "## Problem 1"
   ]
  },
  {
   "cell_type": "markdown",
   "metadata": {},
   "source": [
    "### 1a: P(Y =1 | x) = 0.2\n",
    "Calculate the expected loss for each decision.\n",
    "\\begin{align*}\n",
    "E_{Loss}[\\text{predict }0] &= 0 \\times 0.8 + 10 \\times 0.2 = 2 \\\\\n",
    "E_{Loss}[\\text{predict }1] &= 10 \\times 0.8 + 0 \\times 0.2 = 8 \\\\\n",
    "E_{Loss}[\\text{reject}] &= 3 \\\\\n",
    "\\end{align*}\n",
    "Therefore, the decision should be to predict a 0."
   ]
  },
  {
   "cell_type": "markdown",
   "metadata": {},
   "source": [
    "### 1b: P(Y =1 | x) = 0.4\n",
    "Calculate the expected loss for each decision.\n",
    "\\begin{align*}\n",
    "E_{Loss}[\\text{predict }0] &= 0 \\times 0.6 + 10 \\times 0.4 = 4 \\\\\n",
    "E_{Loss}[\\text{predict }1] &= 10 \\times 0.6 + 0 \\times 0.4 = 6 \\\\\n",
    "E_{Loss}[\\text{reject}] &= 3 \\\\\n",
    "\\end{align*}\n",
    "Therefore, the decision should be to reject the test sample for human classification."
   ]
  },
  {
   "cell_type": "markdown",
   "metadata": {},
   "source": [
    "### 1c: Generalized decision\n",
    "\n",
    "\\begin{align*}\n",
    "E_{Loss}[\\text{predict }0] &= 0(1 - p_1) + 10p_1 = 10p_1 \\\\\n",
    "E_{Loss}[\\text{predict }1] &= 10(1 - p_1) + 0p_1 = 10(1-p_1) \\\\\n",
    "E_{Loss}[\\text{reject}] &= 3 \\\\\n",
    "\\end{align*}\n",
    "\n",
    "Predict 0 if $10p_1 < 3$ and $10p_1 < 10(1-p_1)$, therefore $\\theta_0 = 0.3$. Reject if $3 \\le 10p_1$ and $3 \\le 10(1-p_1)$, so $\\theta_1 = 0.7$."
   ]
  },
  {
   "cell_type": "markdown",
   "metadata": {},
   "source": [
    "## Problem 2"
   ]
  },
  {
   "cell_type": "code",
   "execution_count": 1,
   "metadata": {
    "collapsed": false
   },
   "outputs": [],
   "source": [
    "%matplotlib inline\n",
    "import pandas as pd\n",
    "import numpy as np\n",
    "import matplotlib.pyplot as plt\n",
    "from sklearn import metrics\n",
    "from sklearn.linear_model import LogisticRegression\n",
    "from sklearn.linear_model import LogisticRegressionCV\n",
    "from sklearn.model_selection import cross_val_score\n",
    "from sklearn.model_selection import LeaveOneOut\n",
    "\n",
    "\n",
    "# load the data\n",
    "spamTrain = pd.read_csv(\"spam.train.dat\", sep=' ', header = None)\n",
    "spamTest = pd.read_csv(\"spam.test.dat\", sep=' ', header=None)\n",
    "\n",
    "subspamTrain= spamTrain[:500]\n",
    "\n",
    "# split into train features and labels\n",
    "trainX = spamTrain.ix[:, spamTrain.columns != 57]\n",
    "trainY = spamTrain.ix[:, 57]\n",
    "\n",
    "testX = spamTest.ix[:, spamTest.columns != 57]\n",
    "testY = spamTest.ix[:, 57]\n",
    "\n",
    "subtrainX = subspamTrain.ix[:, subspamTrain.columns != 57]\n",
    "subtrainY = subspamTrain.ix[:, 57]"
   ]
  },
  {
   "cell_type": "markdown",
   "metadata": {},
   "source": [
    "### 2a: K=2"
   ]
  },
  {
   "cell_type": "code",
   "execution_count": 2,
   "metadata": {
    "collapsed": true
   },
   "outputs": [],
   "source": [
    "# function to estimate alpha using cross validation\n",
    "def estimate_alpha(alpha_list, n_folds):\n",
    "    scores = list()\n",
    "    scores_std = list()\n",
    "    # run the the list of alphas\n",
    "    for alpha in alpha_list:\n",
    "        lassoModel = LogisticRegression(penalty='l1',solver='liblinear', C=alpha)\n",
    "        this_scores = cross_val_score(lassoModel, trainX, trainY, scoring=\"roc_auc\", cv=n_folds, n_jobs=1)\n",
    "        scores.append(np.mean(this_scores))\n",
    "        scores_std.append(np.std(this_scores)) \n",
    "    # find the minimum of the scores and the index\n",
    "    optAlpha = np.max(scores)\n",
    "    optAlphaIdx = np.argmax(scores)\n",
    "    lowerBound = scores[optAlphaIdx] - (scores_std[optAlphaIdx]/np.sqrt(n_folds))\n",
    "    # get the smallest alpha within +/- std error\n",
    "    for i, alpha in enumerate(alpha_list):\n",
    "        if scores[i] >= lowerBound:\n",
    "            oneStdAlpha = alpha\n",
    "            break\n",
    "    return scores, scores_std, optAlpha, oneStdAlpha"
   ]
  },
  {
   "cell_type": "code",
   "execution_count": 3,
   "metadata": {
    "collapsed": true
   },
   "outputs": [],
   "source": [
    "# function to plot the cross-validation error curve\n",
    "def plot_cv_curve(alphas, scores, scores_std, optAlpha, n_folds):\n",
    "    scores, scores_std = np.array(scores), np.array(scores_std)\n",
    "    plt.figure().set_size_inches(4, 3)\n",
    "    plt.semilogx(alphas, scores)\n",
    "\n",
    "    # plot error lines showing +/- std. errors of the scores\n",
    "    std_error = scores_std / np.sqrt(n_folds)\n",
    "\n",
    "    plt.semilogx(alphas, scores + std_error, 'b--')\n",
    "    plt.semilogx(alphas, scores - std_error, 'b--')\n",
    "\n",
    "    # alpha=0.2 controls the translucency of the fill color\n",
    "    plt.fill_between(alphas, scores + std_error, scores - std_error, alpha=0.2)\n",
    "    plt.ylabel('CV error +/- std error')\n",
    "    plt.xlabel('alpha')\n",
    "    plt.axhline(np.max(scores), linestyle='--', color='.5')\n",
    "    plt.axvline(optAlpha, linestyle='--', color='r', label='alpha')\n",
    "    plt.legend()\n",
    "    plt.xlim([alphas[0], alphas[-1]])"
   ]
  },
  {
   "cell_type": "code",
   "execution_count": 4,
   "metadata": {
    "collapsed": false,
    "scrolled": true
   },
   "outputs": [
    {
     "name": "stdout",
     "output_type": "stream",
     "text": [
      "usual rule: alpha = 0.969777 \n",
      "one stand error rule: alpha = 0.568987\n"
     ]
    },
    {
     "data": {
      "image/png": "[encoded data removed]",
      "text/plain": [
       "<matplotlib.figure.Figure at 0x111164050>"
      ]
     },
     "metadata": {},
     "output_type": "display_data"
    }
   ],
   "source": [
    "alphas = np.logspace(-4, 4, 50)\n",
    "scores, scores_std, k2optalpha, k2osralpha = estimate_alpha(alphas, 2)\n",
    "print (\"usual rule: alpha = %f \\none stand error rule: alpha = %f\"%(k2optalpha,k2osralpha))\n",
    "\n",
    "plot_cv_curve(alphas, scores, scores_std, k2optalpha, 2)"
   ]
  },
  {
   "cell_type": "code",
   "execution_count": 5,
   "metadata": {
    "collapsed": true
   },
   "outputs": [],
   "source": [
    "def build_lasso_test(optAlpha):\n",
    "    lasso = LogisticRegression(C=optAlpha,penalty='l1',solver='liblinear').fit(trainX,trainY)\n",
    "    trainY_hat = lasso.predict(trainX)\n",
    "    testY_hat = lasso.predict(testX)\n",
    "    return lasso.coef_, metrics.roc_auc_score(trainY, trainY_hat), metrics.roc_auc_score(testY, testY_hat)"
   ]
  },
  {
   "cell_type": "code",
   "execution_count": 6,
   "metadata": {
    "collapsed": false
   },
   "outputs": [
    {
     "name": "stdout",
     "output_type": "stream",
     "text": [
      "training AUC = 0.927097 \n",
      "test AUC = 0.913593\n"
     ]
    }
   ],
   "source": [
    "k2coefficients, k2TrainAUC, k2TestAUC = build_lasso_test(k2osralpha)\n",
    "print (\"training AUC = %f \\ntest AUC = %f\"%(k2TrainAUC, k2TestAUC))"
   ]
  },
  {
   "cell_type": "markdown",
   "metadata": {},
   "source": [
    "### 2b: K=5"
   ]
  },
  {
   "cell_type": "code",
   "execution_count": 7,
   "metadata": {
    "collapsed": false
   },
   "outputs": [
    {
     "name": "stdout",
     "output_type": "stream",
     "text": [
      "usual rule: alpha = 0.971207 \n",
      "one stand error rule: alpha = 0.268270\n"
     ]
    },
    {
     "data": {
      "image/png": "[encoded data removed]",
      "text/plain": [
       "<matplotlib.figure.Figure at 0x10fb5c1d0>"
      ]
     },
     "metadata": {},
     "output_type": "display_data"
    }
   ],
   "source": [
    "scores, scores_std, k5optalpha, k5osralpha = estimate_alpha(alphas, 5)\n",
    "print (\"usual rule: alpha = %f \\none stand error rule: alpha = %f\"%(k5optalpha,k5osralpha))\n",
    "\n",
    "plot_cv_curve(alphas, scores, scores_std, k5optalpha, 5)"
   ]
  },
  {
   "cell_type": "code",
   "execution_count": 8,
   "metadata": {
    "collapsed": false
   },
   "outputs": [
    {
     "name": "stdout",
     "output_type": "stream",
     "text": [
      "training AUC = 0.920272 \n",
      "test AUC = 0.910483\n"
     ]
    }
   ],
   "source": [
    "k5coefficients, k5TrainAUC, k5TestAUC = build_lasso_test(k5osralpha)\n",
    "print (\"training AUC = %f \\ntest AUC = %f\"%(k5TrainAUC,k5TestAUC))"
   ]
  },
  {
   "cell_type": "markdown",
   "metadata": {},
   "source": [
    "### 2c: K=10"
   ]
  },
  {
   "cell_type": "code",
   "execution_count": 9,
   "metadata": {
    "collapsed": false
   },
   "outputs": [
    {
     "name": "stdout",
     "output_type": "stream",
     "text": [
      "usual rule: alpha = 0.972276 \n",
      "one stand error rule: alpha = 0.268270\n"
     ]
    },
    {
     "data": {
      "image/png": "[encoded data removed]",
      "text/plain": [
       "<matplotlib.figure.Figure at 0x11f370b50>"
      ]
     },
     "metadata": {},
     "output_type": "display_data"
    }
   ],
   "source": [
    "scores, scores_std, k10optalpha, k10osralpha = estimate_alpha(alphas, 10)\n",
    "print (\"usual rule: alpha = %f \\none stand error rule: alpha = %f\"%(k10optalpha,k10osralpha))\n",
    "\n",
    "plot_cv_curve(alphas, scores, scores_std, k10osralpha, 5)"
   ]
  },
  {
   "cell_type": "code",
   "execution_count": 10,
   "metadata": {
    "collapsed": false
   },
   "outputs": [
    {
     "name": "stdout",
     "output_type": "stream",
     "text": [
      "training AUC = 0.920272 \n",
      "test AUC = 0.908966\n"
     ]
    }
   ],
   "source": [
    "k10coefficients, k10TrainAUC, k10TestAUC = build_lasso_test(k10osralpha)\n",
    "print (\"training AUC = %f \\ntest AUC = %f\"%(k10TrainAUC,k10TestAUC))"
   ]
  },
  {
   "cell_type": "markdown",
   "metadata": {},
   "source": [
    "### 2d: LOOCV"
   ]
  },
  {
   "cell_type": "code",
   "execution_count": 11,
   "metadata": {
    "collapsed": false
   },
   "outputs": [
    {
     "name": "stdout",
     "output_type": "stream",
     "text": [
      "usual rule: alpha = 0.918000 \n",
      "one stand error rule: alpha = 0.568987\n"
     ]
    },
    {
     "data": {
      "image/png": "[encoded data removed]",
      "text/plain": [
       "<matplotlib.figure.Figure at 0x11fc6e590>"
      ]
     },
     "metadata": {},
     "output_type": "display_data"
    }
   ],
   "source": [
    "scores = list()\n",
    "scores_std = list()\n",
    "loo = LeaveOneOut()\n",
    "\n",
    "# run the the list of alphas\n",
    "for alpha in alphas:\n",
    "    lassoModel = LogisticRegression(penalty='l1',solver='liblinear', C=alpha)\n",
    "    this_scores = list()\n",
    "    # use loocv\n",
    "    for train_index, test_index in loo.split(subtrainX):\n",
    "        looTrainX, looTestX = subtrainX.ix[train_index], subtrainX.ix[test_index]\n",
    "        looTrainY, looTestY = subtrainY.ix[train_index], subtrainY.ix[test_index]\n",
    "        lassoModel.fit(looTrainX, looTrainY)\n",
    "        this_scores.append(metrics.accuracy_score(looTestY, lassoModel.predict(looTestX)))\n",
    "    scores.append(np.mean(this_scores))\n",
    "    scores_std.append(np.std(this_scores)) \n",
    "# find the minimum of the scores and the index\n",
    "knoptalpha = np.max(scores)\n",
    "optAlphaIdx = np.argmax(scores)\n",
    "lowerBound = scores[optAlphaIdx] - (scores_std[optAlphaIdx]/np.sqrt(500))\n",
    "# get the smallest alpha within +/- std error\n",
    "for i, alpha in enumerate(alphas):\n",
    "    if scores[i] >= lowerBound:\n",
    "        knosralpha = alpha\n",
    "        break\n",
    "print (\"usual rule: alpha = %f \\none stand error rule: alpha = %f\"%(knoptalpha, knosralpha))\n",
    "\n",
    "plot_cv_curve(alphas, scores, scores_std, knoptalpha, 500)"
   ]
  },
  {
   "cell_type": "code",
   "execution_count": 12,
   "metadata": {
    "collapsed": false
   },
   "outputs": [
    {
     "name": "stdout",
     "output_type": "stream",
     "text": [
      "training AUC = 0.927097 \n",
      "test AUC = 0.913593\n"
     ]
    }
   ],
   "source": [
    "kncoefficients, knTrainAUC, knTestAUC = build_lasso_test(knosralpha)\n",
    "print (\"training AUC = %f \\ntest AUC = %f\"%(knTrainAUC, knTestAUC))"
   ]
  },
  {
   "cell_type": "code",
   "execution_count": 13,
   "metadata": {
    "collapsed": false
   },
   "outputs": [
    {
     "name": "stdout",
     "output_type": "stream",
     "text": [
      "    K    lambda  trainAUC   testAUC\n",
      "0   2  0.568987  0.927097  0.913593\n",
      "1   5  0.268270  0.920272  0.910483\n",
      "2  10  0.268270  0.920272  0.908966\n",
      "3   N  0.568987  0.927097  0.913593\n"
     ]
    }
   ],
   "source": [
    "print pd.DataFrame([[\"2\", k2osralpha, k2TrainAUC, k2TestAUC],\n",
    "                    [\"5\", k5osralpha, k5TrainAUC, k5TestAUC],\n",
    "                    [\"10\", k10osralpha, k10TrainAUC, k10TestAUC],\n",
    "                    [\"N\", knosralpha, knTrainAUC,knTestAUC]],\n",
    "                  columns = ['K', 'lambda', \"trainAUC\", \"testAUC\"])"
   ]
  },
  {
   "cell_type": "markdown",
   "metadata": {
    "collapsed": true
   },
   "source": [
    "### 2e: coefficients"
   ]
  },
  {
   "cell_type": "code",
   "execution_count": 14,
   "metadata": {
    "collapsed": false
   },
   "outputs": [
    {
     "data": {
      "text/html": [
       "<div>\n",
       "<table border=\"1\" class=\"dataframe\">\n",
       "  <thead>\n",
       "    <tr style=\"text-align: right;\">\n",
       "      <th></th>\n",
       "      <th>k=2</th>\n",
       "      <th>k=5</th>\n",
       "      <th>k=10</th>\n",
       "      <th>LOOCV</th>\n",
       "    </tr>\n",
       "  </thead>\n",
       "  <tbody>\n",
       "    <tr>\n",
       "      <th>lambda</th>\n",
       "      <td>0.568987</td>\n",
       "      <td>0.268270</td>\n",
       "      <td>0.268270</td>\n",
       "      <td>0.568987</td>\n",
       "    </tr>\n",
       "    <tr>\n",
       "      <th>0</th>\n",
       "      <td>-0.289200</td>\n",
       "      <td>-0.145826</td>\n",
       "      <td>-0.145849</td>\n",
       "      <td>-0.289137</td>\n",
       "    </tr>\n",
       "    <tr>\n",
       "      <th>1</th>\n",
       "      <td>-0.147971</td>\n",
       "      <td>-0.125839</td>\n",
       "      <td>-0.125768</td>\n",
       "      <td>-0.147952</td>\n",
       "    </tr>\n",
       "    <tr>\n",
       "      <th>2</th>\n",
       "      <td>0.096283</td>\n",
       "      <td>0.068963</td>\n",
       "      <td>0.069910</td>\n",
       "      <td>0.096373</td>\n",
       "    </tr>\n",
       "    <tr>\n",
       "      <th>3</th>\n",
       "      <td>0.427290</td>\n",
       "      <td>0.247174</td>\n",
       "      <td>0.247210</td>\n",
       "      <td>0.427215</td>\n",
       "    </tr>\n",
       "    <tr>\n",
       "      <th>4</th>\n",
       "      <td>0.552976</td>\n",
       "      <td>0.540581</td>\n",
       "      <td>0.541053</td>\n",
       "      <td>0.553130</td>\n",
       "    </tr>\n",
       "    <tr>\n",
       "      <th>5</th>\n",
       "      <td>1.256563</td>\n",
       "      <td>1.025962</td>\n",
       "      <td>1.027549</td>\n",
       "      <td>1.256807</td>\n",
       "    </tr>\n",
       "    <tr>\n",
       "      <th>6</th>\n",
       "      <td>1.636953</td>\n",
       "      <td>1.618739</td>\n",
       "      <td>1.619280</td>\n",
       "      <td>1.637278</td>\n",
       "    </tr>\n",
       "    <tr>\n",
       "      <th>7</th>\n",
       "      <td>0.492528</td>\n",
       "      <td>0.470761</td>\n",
       "      <td>0.471021</td>\n",
       "      <td>0.492613</td>\n",
       "    </tr>\n",
       "    <tr>\n",
       "      <th>8</th>\n",
       "      <td>0.793179</td>\n",
       "      <td>0.600907</td>\n",
       "      <td>0.601547</td>\n",
       "      <td>0.793240</td>\n",
       "    </tr>\n",
       "    <tr>\n",
       "      <th>9</th>\n",
       "      <td>0.033362</td>\n",
       "      <td>0.028319</td>\n",
       "      <td>0.028166</td>\n",
       "      <td>0.033239</td>\n",
       "    </tr>\n",
       "    <tr>\n",
       "      <th>10</th>\n",
       "      <td>0.000000</td>\n",
       "      <td>0.000000</td>\n",
       "      <td>0.000000</td>\n",
       "      <td>0.000000</td>\n",
       "    </tr>\n",
       "    <tr>\n",
       "      <th>11</th>\n",
       "      <td>-0.025938</td>\n",
       "      <td>-0.045060</td>\n",
       "      <td>-0.044950</td>\n",
       "      <td>-0.025803</td>\n",
       "    </tr>\n",
       "    <tr>\n",
       "      <th>12</th>\n",
       "      <td>0.000000</td>\n",
       "      <td>0.000000</td>\n",
       "      <td>0.000000</td>\n",
       "      <td>0.000000</td>\n",
       "    </tr>\n",
       "    <tr>\n",
       "      <th>13</th>\n",
       "      <td>0.039941</td>\n",
       "      <td>0.000000</td>\n",
       "      <td>0.000000</td>\n",
       "      <td>0.040021</td>\n",
       "    </tr>\n",
       "    <tr>\n",
       "      <th>14</th>\n",
       "      <td>0.744525</td>\n",
       "      <td>0.207607</td>\n",
       "      <td>0.207943</td>\n",
       "      <td>0.744294</td>\n",
       "    </tr>\n",
       "    <tr>\n",
       "      <th>15</th>\n",
       "      <td>1.055263</td>\n",
       "      <td>0.997826</td>\n",
       "      <td>0.997867</td>\n",
       "      <td>1.055192</td>\n",
       "    </tr>\n",
       "    <tr>\n",
       "      <th>16</th>\n",
       "      <td>0.645665</td>\n",
       "      <td>0.559566</td>\n",
       "      <td>0.559395</td>\n",
       "      <td>0.645697</td>\n",
       "    </tr>\n",
       "    <tr>\n",
       "      <th>17</th>\n",
       "      <td>0.072489</td>\n",
       "      <td>0.095186</td>\n",
       "      <td>0.095494</td>\n",
       "      <td>0.072545</td>\n",
       "    </tr>\n",
       "    <tr>\n",
       "      <th>18</th>\n",
       "      <td>0.074310</td>\n",
       "      <td>0.076657</td>\n",
       "      <td>0.076817</td>\n",
       "      <td>0.074415</td>\n",
       "    </tr>\n",
       "    <tr>\n",
       "      <th>19</th>\n",
       "      <td>0.590565</td>\n",
       "      <td>0.478472</td>\n",
       "      <td>0.478856</td>\n",
       "      <td>0.590679</td>\n",
       "    </tr>\n",
       "    <tr>\n",
       "      <th>20</th>\n",
       "      <td>0.143488</td>\n",
       "      <td>0.145002</td>\n",
       "      <td>0.145011</td>\n",
       "      <td>0.143441</td>\n",
       "    </tr>\n",
       "    <tr>\n",
       "      <th>21</th>\n",
       "      <td>0.112410</td>\n",
       "      <td>0.113100</td>\n",
       "      <td>0.112620</td>\n",
       "      <td>0.112263</td>\n",
       "    </tr>\n",
       "    <tr>\n",
       "      <th>22</th>\n",
       "      <td>2.057967</td>\n",
       "      <td>1.841892</td>\n",
       "      <td>1.842378</td>\n",
       "      <td>2.058029</td>\n",
       "    </tr>\n",
       "    <tr>\n",
       "      <th>23</th>\n",
       "      <td>0.713073</td>\n",
       "      <td>0.688507</td>\n",
       "      <td>0.687850</td>\n",
       "      <td>0.713079</td>\n",
       "    </tr>\n",
       "    <tr>\n",
       "      <th>24</th>\n",
       "      <td>-2.016318</td>\n",
       "      <td>-1.928734</td>\n",
       "      <td>-1.927317</td>\n",
       "      <td>-2.016050</td>\n",
       "    </tr>\n",
       "    <tr>\n",
       "      <th>25</th>\n",
       "      <td>-1.251681</td>\n",
       "      <td>-0.985727</td>\n",
       "      <td>-0.986341</td>\n",
       "      <td>-1.251779</td>\n",
       "    </tr>\n",
       "    <tr>\n",
       "      <th>26</th>\n",
       "      <td>-3.808769</td>\n",
       "      <td>-2.844789</td>\n",
       "      <td>-2.845588</td>\n",
       "      <td>-3.808759</td>\n",
       "    </tr>\n",
       "    <tr>\n",
       "      <th>27</th>\n",
       "      <td>0.265308</td>\n",
       "      <td>0.187366</td>\n",
       "      <td>0.187571</td>\n",
       "      <td>0.265349</td>\n",
       "    </tr>\n",
       "    <tr>\n",
       "      <th>28</th>\n",
       "      <td>-1.096357</td>\n",
       "      <td>-0.509044</td>\n",
       "      <td>-0.508492</td>\n",
       "      <td>-1.096401</td>\n",
       "    </tr>\n",
       "    <tr>\n",
       "      <th>29</th>\n",
       "      <td>-0.338250</td>\n",
       "      <td>-0.143923</td>\n",
       "      <td>-0.143791</td>\n",
       "      <td>-0.338171</td>\n",
       "    </tr>\n",
       "    <tr>\n",
       "      <th>30</th>\n",
       "      <td>-0.069520</td>\n",
       "      <td>-0.016501</td>\n",
       "      <td>-0.016487</td>\n",
       "      <td>-0.069489</td>\n",
       "    </tr>\n",
       "    <tr>\n",
       "      <th>31</th>\n",
       "      <td>0.000000</td>\n",
       "      <td>0.000000</td>\n",
       "      <td>0.000000</td>\n",
       "      <td>0.000000</td>\n",
       "    </tr>\n",
       "    <tr>\n",
       "      <th>32</th>\n",
       "      <td>-1.016217</td>\n",
       "      <td>-0.831907</td>\n",
       "      <td>-0.831712</td>\n",
       "      <td>-1.016441</td>\n",
       "    </tr>\n",
       "    <tr>\n",
       "      <th>33</th>\n",
       "      <td>0.000000</td>\n",
       "      <td>0.000000</td>\n",
       "      <td>0.000000</td>\n",
       "      <td>0.000000</td>\n",
       "    </tr>\n",
       "    <tr>\n",
       "      <th>34</th>\n",
       "      <td>-0.865410</td>\n",
       "      <td>-0.259595</td>\n",
       "      <td>-0.259118</td>\n",
       "      <td>-0.865055</td>\n",
       "    </tr>\n",
       "    <tr>\n",
       "      <th>35</th>\n",
       "      <td>0.709238</td>\n",
       "      <td>0.426395</td>\n",
       "      <td>0.426958</td>\n",
       "      <td>0.709274</td>\n",
       "    </tr>\n",
       "    <tr>\n",
       "      <th>36</th>\n",
       "      <td>-0.409543</td>\n",
       "      <td>-0.393418</td>\n",
       "      <td>-0.393548</td>\n",
       "      <td>-0.409776</td>\n",
       "    </tr>\n",
       "    <tr>\n",
       "      <th>37</th>\n",
       "      <td>-0.413746</td>\n",
       "      <td>-0.243344</td>\n",
       "      <td>-0.243170</td>\n",
       "      <td>-0.413673</td>\n",
       "    </tr>\n",
       "    <tr>\n",
       "      <th>38</th>\n",
       "      <td>-0.599763</td>\n",
       "      <td>-0.349232</td>\n",
       "      <td>-0.349167</td>\n",
       "      <td>-0.599767</td>\n",
       "    </tr>\n",
       "    <tr>\n",
       "      <th>39</th>\n",
       "      <td>-0.720802</td>\n",
       "      <td>-0.582175</td>\n",
       "      <td>-0.585103</td>\n",
       "      <td>-0.721288</td>\n",
       "    </tr>\n",
       "    <tr>\n",
       "      <th>40</th>\n",
       "      <td>-1.009760</td>\n",
       "      <td>-0.352893</td>\n",
       "      <td>-0.353743</td>\n",
       "      <td>-1.010174</td>\n",
       "    </tr>\n",
       "    <tr>\n",
       "      <th>41</th>\n",
       "      <td>-2.097621</td>\n",
       "      <td>-1.479040</td>\n",
       "      <td>-1.478579</td>\n",
       "      <td>-2.097720</td>\n",
       "    </tr>\n",
       "    <tr>\n",
       "      <th>42</th>\n",
       "      <td>-0.313399</td>\n",
       "      <td>-0.010732</td>\n",
       "      <td>-0.010248</td>\n",
       "      <td>-0.313161</td>\n",
       "    </tr>\n",
       "    <tr>\n",
       "      <th>43</th>\n",
       "      <td>-0.897876</td>\n",
       "      <td>-0.709224</td>\n",
       "      <td>-0.708512</td>\n",
       "      <td>-0.897741</td>\n",
       "    </tr>\n",
       "    <tr>\n",
       "      <th>44</th>\n",
       "      <td>-0.705879</td>\n",
       "      <td>-0.632774</td>\n",
       "      <td>-0.632399</td>\n",
       "      <td>-0.705883</td>\n",
       "    </tr>\n",
       "    <tr>\n",
       "      <th>45</th>\n",
       "      <td>-1.351186</td>\n",
       "      <td>-1.254960</td>\n",
       "      <td>-1.254370</td>\n",
       "      <td>-1.350793</td>\n",
       "    </tr>\n",
       "    <tr>\n",
       "      <th>46</th>\n",
       "      <td>-0.244542</td>\n",
       "      <td>0.000000</td>\n",
       "      <td>0.000000</td>\n",
       "      <td>-0.244570</td>\n",
       "    </tr>\n",
       "    <tr>\n",
       "      <th>47</th>\n",
       "      <td>-1.067194</td>\n",
       "      <td>-0.546982</td>\n",
       "      <td>-0.546603</td>\n",
       "      <td>-1.067130</td>\n",
       "    </tr>\n",
       "    <tr>\n",
       "      <th>48</th>\n",
       "      <td>-0.895044</td>\n",
       "      <td>-0.656525</td>\n",
       "      <td>-0.656052</td>\n",
       "      <td>-0.894915</td>\n",
       "    </tr>\n",
       "    <tr>\n",
       "      <th>49</th>\n",
       "      <td>0.000000</td>\n",
       "      <td>0.000000</td>\n",
       "      <td>0.000000</td>\n",
       "      <td>0.000000</td>\n",
       "    </tr>\n",
       "    <tr>\n",
       "      <th>50</th>\n",
       "      <td>-0.008789</td>\n",
       "      <td>0.000000</td>\n",
       "      <td>0.000000</td>\n",
       "      <td>-0.008553</td>\n",
       "    </tr>\n",
       "    <tr>\n",
       "      <th>51</th>\n",
       "      <td>0.254311</td>\n",
       "      <td>0.250023</td>\n",
       "      <td>0.250097</td>\n",
       "      <td>0.254340</td>\n",
       "    </tr>\n",
       "    <tr>\n",
       "      <th>52</th>\n",
       "      <td>3.781981</td>\n",
       "      <td>3.320410</td>\n",
       "      <td>3.319275</td>\n",
       "      <td>3.781350</td>\n",
       "    </tr>\n",
       "    <tr>\n",
       "      <th>53</th>\n",
       "      <td>1.362244</td>\n",
       "      <td>0.545412</td>\n",
       "      <td>0.545265</td>\n",
       "      <td>1.361987</td>\n",
       "    </tr>\n",
       "    <tr>\n",
       "      <th>54</th>\n",
       "      <td>0.089780</td>\n",
       "      <td>0.073531</td>\n",
       "      <td>0.074494</td>\n",
       "      <td>0.090054</td>\n",
       "    </tr>\n",
       "    <tr>\n",
       "      <th>55</th>\n",
       "      <td>0.009026</td>\n",
       "      <td>0.009136</td>\n",
       "      <td>0.009091</td>\n",
       "      <td>0.009010</td>\n",
       "    </tr>\n",
       "    <tr>\n",
       "      <th>56</th>\n",
       "      <td>0.000454</td>\n",
       "      <td>0.000431</td>\n",
       "      <td>0.000433</td>\n",
       "      <td>0.000454</td>\n",
       "    </tr>\n",
       "  </tbody>\n",
       "</table>\n",
       "</div>"
      ],
      "text/plain": [
       "             k=2       k=5      k=10     LOOCV\n",
       "lambda  0.568987  0.268270  0.268270  0.568987\n",
       "0      -0.289200 -0.145826 -0.145849 -0.289137\n",
       "1      -0.147971 -0.125839 -0.125768 -0.147952\n",
       "2       0.096283  0.068963  0.069910  0.096373\n",
       "3       0.427290  0.247174  0.247210  0.427215\n",
       "4       0.552976  0.540581  0.541053  0.553130\n",
       "5       1.256563  1.025962  1.027549  1.256807\n",
       "6       1.636953  1.618739  1.619280  1.637278\n",
       "7       0.492528  0.470761  0.471021  0.492613\n",
       "8       0.793179  0.600907  0.601547  0.793240\n",
       "9       0.033362  0.028319  0.028166  0.033239\n",
       "10      0.000000  0.000000  0.000000  0.000000\n",
       "11     -0.025938 -0.045060 -0.044950 -0.025803\n",
       "12      0.000000  0.000000  0.000000  0.000000\n",
       "13      0.039941  0.000000  0.000000  0.040021\n",
       "14      0.744525  0.207607  0.207943  0.744294\n",
       "15      1.055263  0.997826  0.997867  1.055192\n",
       "16      0.645665  0.559566  0.559395  0.645697\n",
       "17      0.072489  0.095186  0.095494  0.072545\n",
       "18      0.074310  0.076657  0.076817  0.074415\n",
       "19      0.590565  0.478472  0.478856  0.590679\n",
       "20      0.143488  0.145002  0.145011  0.143441\n",
       "21      0.112410  0.113100  0.112620  0.112263\n",
       "22      2.057967  1.841892  1.842378  2.058029\n",
       "23      0.713073  0.688507  0.687850  0.713079\n",
       "24     -2.016318 -1.928734 -1.927317 -2.016050\n",
       "25     -1.251681 -0.985727 -0.986341 -1.251779\n",
       "26     -3.808769 -2.844789 -2.845588 -3.808759\n",
       "27      0.265308  0.187366  0.187571  0.265349\n",
       "28     -1.096357 -0.509044 -0.508492 -1.096401\n",
       "29     -0.338250 -0.143923 -0.143791 -0.338171\n",
       "30     -0.069520 -0.016501 -0.016487 -0.069489\n",
       "31      0.000000  0.000000  0.000000  0.000000\n",
       "32     -1.016217 -0.831907 -0.831712 -1.016441\n",
       "33      0.000000  0.000000  0.000000  0.000000\n",
       "34     -0.865410 -0.259595 -0.259118 -0.865055\n",
       "35      0.709238  0.426395  0.426958  0.709274\n",
       "36     -0.409543 -0.393418 -0.393548 -0.409776\n",
       "37     -0.413746 -0.243344 -0.243170 -0.413673\n",
       "38     -0.599763 -0.349232 -0.349167 -0.599767\n",
       "39     -0.720802 -0.582175 -0.585103 -0.721288\n",
       "40     -1.009760 -0.352893 -0.353743 -1.010174\n",
       "41     -2.097621 -1.479040 -1.478579 -2.097720\n",
       "42     -0.313399 -0.010732 -0.010248 -0.313161\n",
       "43     -0.897876 -0.709224 -0.708512 -0.897741\n",
       "44     -0.705879 -0.632774 -0.632399 -0.705883\n",
       "45     -1.351186 -1.254960 -1.254370 -1.350793\n",
       "46     -0.244542  0.000000  0.000000 -0.244570\n",
       "47     -1.067194 -0.546982 -0.546603 -1.067130\n",
       "48     -0.895044 -0.656525 -0.656052 -0.894915\n",
       "49      0.000000  0.000000  0.000000  0.000000\n",
       "50     -0.008789  0.000000  0.000000 -0.008553\n",
       "51      0.254311  0.250023  0.250097  0.254340\n",
       "52      3.781981  3.320410  3.319275  3.781350\n",
       "53      1.362244  0.545412  0.545265  1.361987\n",
       "54      0.089780  0.073531  0.074494  0.090054\n",
       "55      0.009026  0.009136  0.009091  0.009010\n",
       "56      0.000454  0.000431  0.000433  0.000454"
      ]
     },
     "execution_count": 14,
     "metadata": {},
     "output_type": "execute_result"
    }
   ],
   "source": [
    "p2table = pd.DataFrame([k2coefficients[0]])\n",
    "p2table = p2table.append([k5coefficients[0]])\n",
    "p2table = p2table.append([k10coefficients[0]])\n",
    "p2table = p2table.append([kncoefficients[0]])\n",
    "p2table.insert(0,'lambda',[k2osralpha,k5osralpha,k10osralpha,knosralpha])\n",
    "p2table.index=['k=2','k=5','k=10','LOOCV']\n",
    "p2table.transpose()"
   ]
  },
  {
   "cell_type": "markdown",
   "metadata": {},
   "source": [
    "## Problem 3"
   ]
  },
  {
   "cell_type": "code",
   "execution_count": 15,
   "metadata": {
    "collapsed": true
   },
   "outputs": [],
   "source": [
    "def calc_loglikelihood(yTrue, estProb):\n",
    "    yInt = yTrue.astype(int)\n",
    "    # since it's probability we'll want to fix np.log(0) problems\n",
    "    np.place(estProb, estProb == 0, 0.00000000001)\n",
    "    np.place(estProb, estProb == 1, 0.99999999999)\n",
    "    tmp = yInt * np.log(estProb) + (1 - yInt) * np.log(1 - estProb)\n",
    "    return np.sum(tmp)"
   ]
  },
  {
   "cell_type": "code",
   "execution_count": 16,
   "metadata": {
    "collapsed": true
   },
   "outputs": [],
   "source": [
    "def calculate_AIC(yTrue, estProb, selected):\n",
    "    N = len(yTrue)\n",
    "    d = len(selected)\n",
    "    return 2.0 * d / N - 2.0 / N * calc_loglikelihood(yTrue, estProb)"
   ]
  },
  {
   "cell_type": "code",
   "execution_count": 17,
   "metadata": {
    "collapsed": true
   },
   "outputs": [],
   "source": [
    "def calculate_BIC(yTrue, estProb, selected):\n",
    "    N = len(yTrue)\n",
    "    d = len(selected)\n",
    "    return d * np.log(N) - 2.0 * calc_loglikelihood(yTrue, estProb)"
   ]
  },
  {
   "cell_type": "markdown",
   "metadata": {},
   "source": [
    "### 3a: forward AIC"
   ]
  },
  {
   "cell_type": "code",
   "execution_count": 18,
   "metadata": {
    "collapsed": false
   },
   "outputs": [],
   "source": [
    "def forward_selection(model_sel):\n",
    "    logrmodel = LogisticRegression()\n",
    "    # keep track of the things remaining\n",
    "    remaining = np.arange(0, 57).tolist()\n",
    "    selected = []\n",
    "    current_score, best_new_score = np.inf, np.inf\n",
    "    while len(remaining) > 0 and current_score == best_new_score:\n",
    "        scores_with_candidates = []\n",
    "        for i in remaining:\n",
    "            canColumn = selected + [i]\n",
    "            canTrainX = trainX.iloc[:, canColumn]\n",
    "            logrmodel.fit(canTrainX, trainY)\n",
    "            trainY_hat = logrmodel.predict_proba(canTrainX)\n",
    "            scores_with_candidates.append((model_sel(trainY, trainY_hat[:, 1], canColumn), i))\n",
    "\n",
    "        scores_with_candidates.sort(reverse=True)\n",
    "        best_new_score, best_candidate = scores_with_candidates.pop()\n",
    "        if best_new_score > current_score:\n",
    "            break\n",
    "        remaining.remove(best_candidate)\n",
    "        selected.append(best_candidate)\n",
    "        current_score = best_new_score\n",
    "    \n",
    "    # do the book-keeping to report train/test auc\n",
    "    fTrainX = trainX.iloc[:, selected]\n",
    "    fTestX = testX.iloc[:, selected]\n",
    "    logrmodel.fit(fTrainX, trainY)\n",
    "    yTrainHat = logrmodel.predict(fTrainX)\n",
    "    yTestHat = logrmodel.predict(fTestX)\n",
    "    coef = np.zeros(57)\n",
    "    coef[selected] = logrmodel.coef_.flatten()\n",
    "    return coef, metrics.roc_auc_score(trainY, yTrainHat), metrics.roc_auc_score(testY, yTestHat)"
   ]
  },
  {
   "cell_type": "code",
   "execution_count": 19,
   "metadata": {
    "collapsed": false
   },
   "outputs": [],
   "source": [
    "fAICcoef, fAtrainAUC, fAtestAUC = forward_selection(calculate_AIC)"
   ]
  },
  {
   "cell_type": "markdown",
   "metadata": {},
   "source": [
    "### 3b: backward AIC"
   ]
  },
  {
   "cell_type": "code",
   "execution_count": 20,
   "metadata": {
    "collapsed": true
   },
   "outputs": [],
   "source": [
    "import itertools\n",
    "\n",
    "def backward_selection(model_sel):\n",
    "    logrmodel = LogisticRegression()\n",
    "    # keep track of the things selected\n",
    "    selected = range(57)\n",
    "    logrmodel.fit(trainX, trainY)\n",
    "    trainY_hat = logrmodel.predict_proba(trainX)\n",
    "    score = model_sel(trainY, trainY_hat[:, 1], selected)\n",
    "    current_score, best_new_score = score, score\n",
    "    while len(selected) > 0 and current_score == best_new_score:\n",
    "        scores_with_candidates = []\n",
    "        for candidate in itertools.combinations(selected, len(selected) - 1):\n",
    "            canTrainX = trainX.iloc[:, candidate]\n",
    "            logrmodel.fit(canTrainX, trainY)\n",
    "            trainY_hat = logrmodel.predict_proba(canTrainX)\n",
    "            scores_with_candidates.append((model_sel(trainY, trainY_hat[:, 1], candidate), candidate))\n",
    "        scores_with_candidates.sort(reverse=True)\n",
    "        best_new_score, best_candidate = scores_with_candidates.pop()\n",
    "        if best_new_score > current_score:\n",
    "            break\n",
    "        selected = best_candidate\n",
    "        current_score = best_new_score\n",
    "    \n",
    "    # do the book-keeping to report train/test auc\n",
    "    fTrainX = trainX.iloc[:, selected]\n",
    "    fTestX = testX.iloc[:, selected]\n",
    "    logrmodel.fit(fTrainX, trainY)\n",
    "    yTrainHat = logrmodel.predict(fTrainX)\n",
    "    yTestHat = logrmodel.predict(fTestX)\n",
    "    coef = np.zeros(57)\n",
    "    coef[list(selected)] = logrmodel.coef_.flatten()\n",
    "    return coef, metrics.roc_auc_score(trainY, yTrainHat), metrics.roc_auc_score(testY, yTestHat)"
   ]
  },
  {
   "cell_type": "code",
   "execution_count": 21,
   "metadata": {
    "collapsed": false
   },
   "outputs": [],
   "source": [
    "bAICcoef, bAtrainAUC, bAtestAUC = backward_selection(calculate_AIC)"
   ]
  },
  {
   "cell_type": "markdown",
   "metadata": {},
   "source": [
    "### 3c: forward BIC"
   ]
  },
  {
   "cell_type": "code",
   "execution_count": 22,
   "metadata": {
    "collapsed": false
   },
   "outputs": [],
   "source": [
    "fBICcoef, fBtrainAUC, fBtestAUC = forward_selection(calculate_BIC)"
   ]
  },
  {
   "cell_type": "markdown",
   "metadata": {},
   "source": [
    "### 3d: backward BIC"
   ]
  },
  {
   "cell_type": "code",
   "execution_count": 23,
   "metadata": {
    "collapsed": false
   },
   "outputs": [],
   "source": [
    "bBICcoef, bBtrainAUC, bBtestAUC = backward_selection(calculate_BIC)"
   ]
  },
  {
   "cell_type": "code",
   "execution_count": 24,
   "metadata": {
    "collapsed": false
   },
   "outputs": [
    {
     "name": "stdout",
     "output_type": "stream",
     "text": [
      "    forward AIC  backward AIC  forward BIC  backward BIC\n",
      "0      0.000000      0.000000    -0.411066      0.000000\n",
      "1     -0.155927      0.000000    -0.165964      0.000000\n",
      "2      0.000000      0.000000     0.000000      0.000000\n",
      "3      0.737382      0.000000     0.740524      0.000000\n",
      "4      0.577682      0.623538     0.569015      0.637882\n",
      "5      1.285147      1.243926     1.269710      1.225483\n",
      "6      1.693346      1.809515     1.668597      1.823891\n",
      "7      0.516509      0.550354     0.513975      0.557190\n",
      "8      0.888531      0.909980     0.933129      0.921078\n",
      "9      0.000000      0.000000     0.033152      0.000000\n",
      "10     0.000000      0.000000     0.000000      0.000000\n",
      "11     0.000000      0.000000     0.000000      0.000000\n",
      "12     0.000000      0.000000     0.000000      0.000000\n",
      "13     0.000000      0.000000     0.000000      0.000000\n",
      "14     1.040223      0.000000     1.041737      0.000000\n",
      "15     1.120536      1.107656     1.116397      1.111982\n",
      "16     0.694615      0.697930     0.687364      0.755155\n",
      "17     0.000000      0.000000     0.000000      0.000000\n",
      "18     0.071369      0.000000     0.076077      0.000000\n",
      "19     0.802491      0.925689     0.746140      0.000000\n",
      "20     0.120028      0.000000     0.153669      0.000000\n",
      "21     0.000000      0.000000     0.159572      0.000000\n",
      "22     2.038129      2.122059     2.067312      2.119271\n",
      "23     0.806112      1.119276     0.787267      1.178966\n",
      "24    -1.987382     -2.084541    -1.957722     -2.118820\n",
      "25    -1.459282     -1.439278    -1.407022     -1.451575\n",
      "26    -2.899787     -3.450850    -2.900362     -3.575793\n",
      "27     0.312849      0.000000     0.306377      0.000000\n",
      "28    -1.367892      0.000000    -1.337950      0.000000\n",
      "29     0.000000      0.000000    -0.518629      0.000000\n",
      "30     0.000000      0.000000     0.000000      0.000000\n",
      "31     0.000000      0.000000     0.000000      0.000000\n",
      "32    -1.112626     -1.100827    -1.117263     -1.111022\n",
      "33     0.000000      0.000000     0.000000      0.000000\n",
      "34    -1.293538      0.000000    -1.266979      0.000000\n",
      "35     0.901448      0.000000     0.907048      0.000000\n",
      "36    -0.566706      0.000000    -0.487068      0.000000\n",
      "37    -0.571644      0.000000    -0.573758      0.000000\n",
      "38    -0.821345      0.000000    -0.814350      0.000000\n",
      "39    -1.141117      0.000000    -1.104618      0.000000\n",
      "40    -1.346632      0.000000    -1.264545      0.000000\n",
      "41    -2.037554     -2.090693    -1.976399     -2.147594\n",
      "42     0.000000      0.000000    -0.663470      0.000000\n",
      "43    -1.102411     -1.271109    -1.066639     -1.091054\n",
      "44    -0.696201     -0.667826    -0.714990     -0.690828\n",
      "45    -1.341878     -1.537073    -1.357115     -1.570239\n",
      "46     0.000000      0.000000    -0.748673      0.000000\n",
      "47    -1.280876     -1.370648    -1.284582     -1.391824\n",
      "48    -0.799621     -0.722455    -1.093724     -0.749727\n",
      "49     0.000000      0.000000     0.000000      0.000000\n",
      "50     0.000000      0.000000     0.000000      0.000000\n",
      "51     0.264109      0.278239     0.259274      0.290623\n",
      "52     3.117537      3.422858     3.105000      3.465227\n",
      "53     1.676314      1.964104     1.449832      2.152770\n",
      "54     0.104292      0.000000     0.093724      0.000000\n",
      "55     0.009029      0.014223     0.008974      0.014706\n",
      "56     0.000486      0.000000     0.000472      0.000000\n"
     ]
    }
   ],
   "source": [
    "# put together all the coefficients\n",
    "coefTable = pd.DataFrame([fAICcoef, fBICcoef, bAICcoef, bBICcoef],\n",
    "                          index=[\"forward AIC\",\"backward AIC\",\"forward BIC\",\"backward BIC\"])\n",
    "print coefTable.transpose()"
   ]
  },
  {
   "cell_type": "markdown",
   "metadata": {},
   "source": [
    "### 3e: conclusion"
   ]
  },
  {
   "cell_type": "code",
   "execution_count": 25,
   "metadata": {
    "collapsed": false
   },
   "outputs": [
    {
     "data": {
      "text/html": [
       "<div>\n",
       "<table border=\"1\" class=\"dataframe\">\n",
       "  <thead>\n",
       "    <tr style=\"text-align: right;\">\n",
       "      <th></th>\n",
       "      <th>training AUC</th>\n",
       "      <th>testing AUC</th>\n",
       "    </tr>\n",
       "  </thead>\n",
       "  <tbody>\n",
       "    <tr>\n",
       "      <th>forward AIC</th>\n",
       "      <td>0.926500</td>\n",
       "      <td>0.909953</td>\n",
       "    </tr>\n",
       "    <tr>\n",
       "      <th>backward AIC</th>\n",
       "      <td>0.928072</td>\n",
       "      <td>0.912076</td>\n",
       "    </tr>\n",
       "    <tr>\n",
       "      <th>forward BIC</th>\n",
       "      <td>0.920597</td>\n",
       "      <td>0.910027</td>\n",
       "    </tr>\n",
       "    <tr>\n",
       "      <th>backward BIC</th>\n",
       "      <td>0.918918</td>\n",
       "      <td>0.908510</td>\n",
       "    </tr>\n",
       "  </tbody>\n",
       "</table>\n",
       "</div>"
      ],
      "text/plain": [
       "              training AUC  testing AUC\n",
       "forward AIC       0.926500     0.909953\n",
       "backward AIC      0.928072     0.912076\n",
       "forward BIC       0.920597     0.910027\n",
       "backward BIC      0.918918     0.908510"
      ]
     },
     "execution_count": 25,
     "metadata": {},
     "output_type": "execute_result"
    }
   ],
   "source": [
    "pd.DataFrame([[fAtrainAUC,fAtestAUC],\n",
    "              [bAtrainAUC,bAtestAUC],\n",
    "              [fBtrainAUC,fBtestAUC],\n",
    "              [bBtrainAUC,bBtestAUC]],\n",
    "             index=[\"forward AIC\",\"backward AIC\",\"forward BIC\",\"backward BIC\"],\n",
    "             columns = [\"training AUC\", \"testing AUC\"])"
   ]
  },
  {
   "cell_type": "markdown",
   "metadata": {},
   "source": [
    "## Problem 4"
   ]
  },
  {
   "cell_type": "code",
   "execution_count": 26,
   "metadata": {
    "collapsed": false
   },
   "outputs": [
    {
     "data": {
      "text/html": [
       "<div>\n",
       "<table border=\"1\" class=\"dataframe\">\n",
       "  <thead>\n",
       "    <tr style=\"text-align: right;\">\n",
       "      <th></th>\n",
       "      <th>train AUC</th>\n",
       "      <th>test AUC</th>\n",
       "    </tr>\n",
       "  </thead>\n",
       "  <tbody>\n",
       "    <tr>\n",
       "      <th>k2 LASSO</th>\n",
       "      <td>0.927097</td>\n",
       "      <td>0.913593</td>\n",
       "    </tr>\n",
       "    <tr>\n",
       "      <th>k5 LASSO</th>\n",
       "      <td>0.920272</td>\n",
       "      <td>0.910483</td>\n",
       "    </tr>\n",
       "    <tr>\n",
       "      <th>k10 LASSO</th>\n",
       "      <td>0.920272</td>\n",
       "      <td>0.908966</td>\n",
       "    </tr>\n",
       "    <tr>\n",
       "      <th>LOOCV LASSO</th>\n",
       "      <td>0.927097</td>\n",
       "      <td>0.913593</td>\n",
       "    </tr>\n",
       "    <tr>\n",
       "      <th>forward AIC</th>\n",
       "      <td>0.926500</td>\n",
       "      <td>0.909953</td>\n",
       "    </tr>\n",
       "    <tr>\n",
       "      <th>backward AIC</th>\n",
       "      <td>0.928072</td>\n",
       "      <td>0.912076</td>\n",
       "    </tr>\n",
       "    <tr>\n",
       "      <th>forward BIC</th>\n",
       "      <td>0.920597</td>\n",
       "      <td>0.910027</td>\n",
       "    </tr>\n",
       "    <tr>\n",
       "      <th>backward BIC</th>\n",
       "      <td>0.918918</td>\n",
       "      <td>0.908510</td>\n",
       "    </tr>\n",
       "  </tbody>\n",
       "</table>\n",
       "</div>"
      ],
      "text/plain": [
       "               train AUC  test AUC\n",
       "k2 LASSO        0.927097  0.913593\n",
       "k5 LASSO        0.920272  0.910483\n",
       "k10 LASSO       0.920272  0.908966\n",
       "LOOCV LASSO     0.927097  0.913593\n",
       "forward AIC     0.926500  0.909953\n",
       "backward AIC    0.928072  0.912076\n",
       "forward BIC     0.920597  0.910027\n",
       "backward BIC    0.918918  0.908510"
      ]
     },
     "execution_count": 26,
     "metadata": {},
     "output_type": "execute_result"
    }
   ],
   "source": [
    "pd.DataFrame([[k2TrainAUC, k2TestAUC],\n",
    "              [k5TrainAUC, k5TestAUC],\n",
    "              [k10TrainAUC, k10TestAUC],\n",
    "              [knTrainAUC, knTestAUC],\n",
    "              [fAtrainAUC, fAtestAUC],\n",
    "              [bAtrainAUC, bAtestAUC],\n",
    "              [fBtrainAUC, fBtestAUC],\n",
    "              [bBtrainAUC, bBtestAUC]],\n",
    "             index=[\"k2 LASSO\",\"k5 LASSO\",\"k10 LASSO\",\"LOOCV LASSO\",\"forward AIC\",\"backward AIC\",\"forward BIC\",\"backward BIC\"],\n",
    "             columns = [\" train AUC\", \"test AUC\"])"
   ]
  },
  {
   "cell_type": "code",
   "execution_count": 27,
   "metadata": {
    "collapsed": false
   },
   "outputs": [
    {
     "data": {
      "text/html": [
       "<div>\n",
       "<table border=\"1\" class=\"dataframe\">\n",
       "  <thead>\n",
       "    <tr style=\"text-align: right;\">\n",
       "      <th></th>\n",
       "      <th>k=2</th>\n",
       "      <th>k=5</th>\n",
       "      <th>k=10</th>\n",
       "      <th>LOOCV</th>\n",
       "    </tr>\n",
       "  </thead>\n",
       "  <tbody>\n",
       "    <tr>\n",
       "      <th>lambda</th>\n",
       "      <td>0.568987</td>\n",
       "      <td>0.268270</td>\n",
       "      <td>0.268270</td>\n",
       "      <td>0.568987</td>\n",
       "    </tr>\n",
       "    <tr>\n",
       "      <th>0</th>\n",
       "      <td>-0.289200</td>\n",
       "      <td>-0.145826</td>\n",
       "      <td>-0.145849</td>\n",
       "      <td>-0.289137</td>\n",
       "    </tr>\n",
       "    <tr>\n",
       "      <th>1</th>\n",
       "      <td>-0.147971</td>\n",
       "      <td>-0.125839</td>\n",
       "      <td>-0.125768</td>\n",
       "      <td>-0.147952</td>\n",
       "    </tr>\n",
       "    <tr>\n",
       "      <th>2</th>\n",
       "      <td>0.096283</td>\n",
       "      <td>0.068963</td>\n",
       "      <td>0.069910</td>\n",
       "      <td>0.096373</td>\n",
       "    </tr>\n",
       "    <tr>\n",
       "      <th>3</th>\n",
       "      <td>0.427290</td>\n",
       "      <td>0.247174</td>\n",
       "      <td>0.247210</td>\n",
       "      <td>0.427215</td>\n",
       "    </tr>\n",
       "    <tr>\n",
       "      <th>4</th>\n",
       "      <td>0.552976</td>\n",
       "      <td>0.540581</td>\n",
       "      <td>0.541053</td>\n",
       "      <td>0.553130</td>\n",
       "    </tr>\n",
       "    <tr>\n",
       "      <th>5</th>\n",
       "      <td>1.256563</td>\n",
       "      <td>1.025962</td>\n",
       "      <td>1.027549</td>\n",
       "      <td>1.256807</td>\n",
       "    </tr>\n",
       "    <tr>\n",
       "      <th>6</th>\n",
       "      <td>1.636953</td>\n",
       "      <td>1.618739</td>\n",
       "      <td>1.619280</td>\n",
       "      <td>1.637278</td>\n",
       "    </tr>\n",
       "    <tr>\n",
       "      <th>7</th>\n",
       "      <td>0.492528</td>\n",
       "      <td>0.470761</td>\n",
       "      <td>0.471021</td>\n",
       "      <td>0.492613</td>\n",
       "    </tr>\n",
       "    <tr>\n",
       "      <th>8</th>\n",
       "      <td>0.793179</td>\n",
       "      <td>0.600907</td>\n",
       "      <td>0.601547</td>\n",
       "      <td>0.793240</td>\n",
       "    </tr>\n",
       "    <tr>\n",
       "      <th>9</th>\n",
       "      <td>0.033362</td>\n",
       "      <td>0.028319</td>\n",
       "      <td>0.028166</td>\n",
       "      <td>0.033239</td>\n",
       "    </tr>\n",
       "    <tr>\n",
       "      <th>10</th>\n",
       "      <td>0.000000</td>\n",
       "      <td>0.000000</td>\n",
       "      <td>0.000000</td>\n",
       "      <td>0.000000</td>\n",
       "    </tr>\n",
       "    <tr>\n",
       "      <th>11</th>\n",
       "      <td>-0.025938</td>\n",
       "      <td>-0.045060</td>\n",
       "      <td>-0.044950</td>\n",
       "      <td>-0.025803</td>\n",
       "    </tr>\n",
       "    <tr>\n",
       "      <th>12</th>\n",
       "      <td>0.000000</td>\n",
       "      <td>0.000000</td>\n",
       "      <td>0.000000</td>\n",
       "      <td>0.000000</td>\n",
       "    </tr>\n",
       "    <tr>\n",
       "      <th>13</th>\n",
       "      <td>0.039941</td>\n",
       "      <td>0.000000</td>\n",
       "      <td>0.000000</td>\n",
       "      <td>0.040021</td>\n",
       "    </tr>\n",
       "    <tr>\n",
       "      <th>14</th>\n",
       "      <td>0.744525</td>\n",
       "      <td>0.207607</td>\n",
       "      <td>0.207943</td>\n",
       "      <td>0.744294</td>\n",
       "    </tr>\n",
       "    <tr>\n",
       "      <th>15</th>\n",
       "      <td>1.055263</td>\n",
       "      <td>0.997826</td>\n",
       "      <td>0.997867</td>\n",
       "      <td>1.055192</td>\n",
       "    </tr>\n",
       "    <tr>\n",
       "      <th>16</th>\n",
       "      <td>0.645665</td>\n",
       "      <td>0.559566</td>\n",
       "      <td>0.559395</td>\n",
       "      <td>0.645697</td>\n",
       "    </tr>\n",
       "    <tr>\n",
       "      <th>17</th>\n",
       "      <td>0.072489</td>\n",
       "      <td>0.095186</td>\n",
       "      <td>0.095494</td>\n",
       "      <td>0.072545</td>\n",
       "    </tr>\n",
       "    <tr>\n",
       "      <th>18</th>\n",
       "      <td>0.074310</td>\n",
       "      <td>0.076657</td>\n",
       "      <td>0.076817</td>\n",
       "      <td>0.074415</td>\n",
       "    </tr>\n",
       "    <tr>\n",
       "      <th>19</th>\n",
       "      <td>0.590565</td>\n",
       "      <td>0.478472</td>\n",
       "      <td>0.478856</td>\n",
       "      <td>0.590679</td>\n",
       "    </tr>\n",
       "    <tr>\n",
       "      <th>20</th>\n",
       "      <td>0.143488</td>\n",
       "      <td>0.145002</td>\n",
       "      <td>0.145011</td>\n",
       "      <td>0.143441</td>\n",
       "    </tr>\n",
       "    <tr>\n",
       "      <th>21</th>\n",
       "      <td>0.112410</td>\n",
       "      <td>0.113100</td>\n",
       "      <td>0.112620</td>\n",
       "      <td>0.112263</td>\n",
       "    </tr>\n",
       "    <tr>\n",
       "      <th>22</th>\n",
       "      <td>2.057967</td>\n",
       "      <td>1.841892</td>\n",
       "      <td>1.842378</td>\n",
       "      <td>2.058029</td>\n",
       "    </tr>\n",
       "    <tr>\n",
       "      <th>23</th>\n",
       "      <td>0.713073</td>\n",
       "      <td>0.688507</td>\n",
       "      <td>0.687850</td>\n",
       "      <td>0.713079</td>\n",
       "    </tr>\n",
       "    <tr>\n",
       "      <th>24</th>\n",
       "      <td>-2.016318</td>\n",
       "      <td>-1.928734</td>\n",
       "      <td>-1.927317</td>\n",
       "      <td>-2.016050</td>\n",
       "    </tr>\n",
       "    <tr>\n",
       "      <th>25</th>\n",
       "      <td>-1.251681</td>\n",
       "      <td>-0.985727</td>\n",
       "      <td>-0.986341</td>\n",
       "      <td>-1.251779</td>\n",
       "    </tr>\n",
       "    <tr>\n",
       "      <th>26</th>\n",
       "      <td>-3.808769</td>\n",
       "      <td>-2.844789</td>\n",
       "      <td>-2.845588</td>\n",
       "      <td>-3.808759</td>\n",
       "    </tr>\n",
       "    <tr>\n",
       "      <th>27</th>\n",
       "      <td>0.265308</td>\n",
       "      <td>0.187366</td>\n",
       "      <td>0.187571</td>\n",
       "      <td>0.265349</td>\n",
       "    </tr>\n",
       "    <tr>\n",
       "      <th>28</th>\n",
       "      <td>-1.096357</td>\n",
       "      <td>-0.509044</td>\n",
       "      <td>-0.508492</td>\n",
       "      <td>-1.096401</td>\n",
       "    </tr>\n",
       "    <tr>\n",
       "      <th>29</th>\n",
       "      <td>-0.338250</td>\n",
       "      <td>-0.143923</td>\n",
       "      <td>-0.143791</td>\n",
       "      <td>-0.338171</td>\n",
       "    </tr>\n",
       "    <tr>\n",
       "      <th>30</th>\n",
       "      <td>-0.069520</td>\n",
       "      <td>-0.016501</td>\n",
       "      <td>-0.016487</td>\n",
       "      <td>-0.069489</td>\n",
       "    </tr>\n",
       "    <tr>\n",
       "      <th>31</th>\n",
       "      <td>0.000000</td>\n",
       "      <td>0.000000</td>\n",
       "      <td>0.000000</td>\n",
       "      <td>0.000000</td>\n",
       "    </tr>\n",
       "    <tr>\n",
       "      <th>32</th>\n",
       "      <td>-1.016217</td>\n",
       "      <td>-0.831907</td>\n",
       "      <td>-0.831712</td>\n",
       "      <td>-1.016441</td>\n",
       "    </tr>\n",
       "    <tr>\n",
       "      <th>33</th>\n",
       "      <td>0.000000</td>\n",
       "      <td>0.000000</td>\n",
       "      <td>0.000000</td>\n",
       "      <td>0.000000</td>\n",
       "    </tr>\n",
       "    <tr>\n",
       "      <th>34</th>\n",
       "      <td>-0.865410</td>\n",
       "      <td>-0.259595</td>\n",
       "      <td>-0.259118</td>\n",
       "      <td>-0.865055</td>\n",
       "    </tr>\n",
       "    <tr>\n",
       "      <th>35</th>\n",
       "      <td>0.709238</td>\n",
       "      <td>0.426395</td>\n",
       "      <td>0.426958</td>\n",
       "      <td>0.709274</td>\n",
       "    </tr>\n",
       "    <tr>\n",
       "      <th>36</th>\n",
       "      <td>-0.409543</td>\n",
       "      <td>-0.393418</td>\n",
       "      <td>-0.393548</td>\n",
       "      <td>-0.409776</td>\n",
       "    </tr>\n",
       "    <tr>\n",
       "      <th>37</th>\n",
       "      <td>-0.413746</td>\n",
       "      <td>-0.243344</td>\n",
       "      <td>-0.243170</td>\n",
       "      <td>-0.413673</td>\n",
       "    </tr>\n",
       "    <tr>\n",
       "      <th>38</th>\n",
       "      <td>-0.599763</td>\n",
       "      <td>-0.349232</td>\n",
       "      <td>-0.349167</td>\n",
       "      <td>-0.599767</td>\n",
       "    </tr>\n",
       "    <tr>\n",
       "      <th>39</th>\n",
       "      <td>-0.720802</td>\n",
       "      <td>-0.582175</td>\n",
       "      <td>-0.585103</td>\n",
       "      <td>-0.721288</td>\n",
       "    </tr>\n",
       "    <tr>\n",
       "      <th>40</th>\n",
       "      <td>-1.009760</td>\n",
       "      <td>-0.352893</td>\n",
       "      <td>-0.353743</td>\n",
       "      <td>-1.010174</td>\n",
       "    </tr>\n",
       "    <tr>\n",
       "      <th>41</th>\n",
       "      <td>-2.097621</td>\n",
       "      <td>-1.479040</td>\n",
       "      <td>-1.478579</td>\n",
       "      <td>-2.097720</td>\n",
       "    </tr>\n",
       "    <tr>\n",
       "      <th>42</th>\n",
       "      <td>-0.313399</td>\n",
       "      <td>-0.010732</td>\n",
       "      <td>-0.010248</td>\n",
       "      <td>-0.313161</td>\n",
       "    </tr>\n",
       "    <tr>\n",
       "      <th>43</th>\n",
       "      <td>-0.897876</td>\n",
       "      <td>-0.709224</td>\n",
       "      <td>-0.708512</td>\n",
       "      <td>-0.897741</td>\n",
       "    </tr>\n",
       "    <tr>\n",
       "      <th>44</th>\n",
       "      <td>-0.705879</td>\n",
       "      <td>-0.632774</td>\n",
       "      <td>-0.632399</td>\n",
       "      <td>-0.705883</td>\n",
       "    </tr>\n",
       "    <tr>\n",
       "      <th>45</th>\n",
       "      <td>-1.351186</td>\n",
       "      <td>-1.254960</td>\n",
       "      <td>-1.254370</td>\n",
       "      <td>-1.350793</td>\n",
       "    </tr>\n",
       "    <tr>\n",
       "      <th>46</th>\n",
       "      <td>-0.244542</td>\n",
       "      <td>0.000000</td>\n",
       "      <td>0.000000</td>\n",
       "      <td>-0.244570</td>\n",
       "    </tr>\n",
       "    <tr>\n",
       "      <th>47</th>\n",
       "      <td>-1.067194</td>\n",
       "      <td>-0.546982</td>\n",
       "      <td>-0.546603</td>\n",
       "      <td>-1.067130</td>\n",
       "    </tr>\n",
       "    <tr>\n",
       "      <th>48</th>\n",
       "      <td>-0.895044</td>\n",
       "      <td>-0.656525</td>\n",
       "      <td>-0.656052</td>\n",
       "      <td>-0.894915</td>\n",
       "    </tr>\n",
       "    <tr>\n",
       "      <th>49</th>\n",
       "      <td>0.000000</td>\n",
       "      <td>0.000000</td>\n",
       "      <td>0.000000</td>\n",
       "      <td>0.000000</td>\n",
       "    </tr>\n",
       "    <tr>\n",
       "      <th>50</th>\n",
       "      <td>-0.008789</td>\n",
       "      <td>0.000000</td>\n",
       "      <td>0.000000</td>\n",
       "      <td>-0.008553</td>\n",
       "    </tr>\n",
       "    <tr>\n",
       "      <th>51</th>\n",
       "      <td>0.254311</td>\n",
       "      <td>0.250023</td>\n",
       "      <td>0.250097</td>\n",
       "      <td>0.254340</td>\n",
       "    </tr>\n",
       "    <tr>\n",
       "      <th>52</th>\n",
       "      <td>3.781981</td>\n",
       "      <td>3.320410</td>\n",
       "      <td>3.319275</td>\n",
       "      <td>3.781350</td>\n",
       "    </tr>\n",
       "    <tr>\n",
       "      <th>53</th>\n",
       "      <td>1.362244</td>\n",
       "      <td>0.545412</td>\n",
       "      <td>0.545265</td>\n",
       "      <td>1.361987</td>\n",
       "    </tr>\n",
       "    <tr>\n",
       "      <th>54</th>\n",
       "      <td>0.089780</td>\n",
       "      <td>0.073531</td>\n",
       "      <td>0.074494</td>\n",
       "      <td>0.090054</td>\n",
       "    </tr>\n",
       "    <tr>\n",
       "      <th>55</th>\n",
       "      <td>0.009026</td>\n",
       "      <td>0.009136</td>\n",
       "      <td>0.009091</td>\n",
       "      <td>0.009010</td>\n",
       "    </tr>\n",
       "    <tr>\n",
       "      <th>56</th>\n",
       "      <td>0.000454</td>\n",
       "      <td>0.000431</td>\n",
       "      <td>0.000433</td>\n",
       "      <td>0.000454</td>\n",
       "    </tr>\n",
       "  </tbody>\n",
       "</table>\n",
       "</div>"
      ],
      "text/plain": [
       "             k=2       k=5      k=10     LOOCV\n",
       "lambda  0.568987  0.268270  0.268270  0.568987\n",
       "0      -0.289200 -0.145826 -0.145849 -0.289137\n",
       "1      -0.147971 -0.125839 -0.125768 -0.147952\n",
       "2       0.096283  0.068963  0.069910  0.096373\n",
       "3       0.427290  0.247174  0.247210  0.427215\n",
       "4       0.552976  0.540581  0.541053  0.553130\n",
       "5       1.256563  1.025962  1.027549  1.256807\n",
       "6       1.636953  1.618739  1.619280  1.637278\n",
       "7       0.492528  0.470761  0.471021  0.492613\n",
       "8       0.793179  0.600907  0.601547  0.793240\n",
       "9       0.033362  0.028319  0.028166  0.033239\n",
       "10      0.000000  0.000000  0.000000  0.000000\n",
       "11     -0.025938 -0.045060 -0.044950 -0.025803\n",
       "12      0.000000  0.000000  0.000000  0.000000\n",
       "13      0.039941  0.000000  0.000000  0.040021\n",
       "14      0.744525  0.207607  0.207943  0.744294\n",
       "15      1.055263  0.997826  0.997867  1.055192\n",
       "16      0.645665  0.559566  0.559395  0.645697\n",
       "17      0.072489  0.095186  0.095494  0.072545\n",
       "18      0.074310  0.076657  0.076817  0.074415\n",
       "19      0.590565  0.478472  0.478856  0.590679\n",
       "20      0.143488  0.145002  0.145011  0.143441\n",
       "21      0.112410  0.113100  0.112620  0.112263\n",
       "22      2.057967  1.841892  1.842378  2.058029\n",
       "23      0.713073  0.688507  0.687850  0.713079\n",
       "24     -2.016318 -1.928734 -1.927317 -2.016050\n",
       "25     -1.251681 -0.985727 -0.986341 -1.251779\n",
       "26     -3.808769 -2.844789 -2.845588 -3.808759\n",
       "27      0.265308  0.187366  0.187571  0.265349\n",
       "28     -1.096357 -0.509044 -0.508492 -1.096401\n",
       "29     -0.338250 -0.143923 -0.143791 -0.338171\n",
       "30     -0.069520 -0.016501 -0.016487 -0.069489\n",
       "31      0.000000  0.000000  0.000000  0.000000\n",
       "32     -1.016217 -0.831907 -0.831712 -1.016441\n",
       "33      0.000000  0.000000  0.000000  0.000000\n",
       "34     -0.865410 -0.259595 -0.259118 -0.865055\n",
       "35      0.709238  0.426395  0.426958  0.709274\n",
       "36     -0.409543 -0.393418 -0.393548 -0.409776\n",
       "37     -0.413746 -0.243344 -0.243170 -0.413673\n",
       "38     -0.599763 -0.349232 -0.349167 -0.599767\n",
       "39     -0.720802 -0.582175 -0.585103 -0.721288\n",
       "40     -1.009760 -0.352893 -0.353743 -1.010174\n",
       "41     -2.097621 -1.479040 -1.478579 -2.097720\n",
       "42     -0.313399 -0.010732 -0.010248 -0.313161\n",
       "43     -0.897876 -0.709224 -0.708512 -0.897741\n",
       "44     -0.705879 -0.632774 -0.632399 -0.705883\n",
       "45     -1.351186 -1.254960 -1.254370 -1.350793\n",
       "46     -0.244542  0.000000  0.000000 -0.244570\n",
       "47     -1.067194 -0.546982 -0.546603 -1.067130\n",
       "48     -0.895044 -0.656525 -0.656052 -0.894915\n",
       "49      0.000000  0.000000  0.000000  0.000000\n",
       "50     -0.008789  0.000000  0.000000 -0.008553\n",
       "51      0.254311  0.250023  0.250097  0.254340\n",
       "52      3.781981  3.320410  3.319275  3.781350\n",
       "53      1.362244  0.545412  0.545265  1.361987\n",
       "54      0.089780  0.073531  0.074494  0.090054\n",
       "55      0.009026  0.009136  0.009091  0.009010\n",
       "56      0.000454  0.000431  0.000433  0.000454"
      ]
     },
     "execution_count": 27,
     "metadata": {},
     "output_type": "execute_result"
    }
   ],
   "source": [
    "p2table.transpose()"
   ]
  },
  {
   "cell_type": "code",
   "execution_count": 29,
   "metadata": {
    "collapsed": false
   },
   "outputs": [
    {
     "name": "stdout",
     "output_type": "stream",
     "text": [
      "forward AIC selected: 40\n",
      "backward AIC selected 46\n",
      "forward BIC selected 24\n",
      "backward BIC selected 23\n"
     ]
    }
   ],
   "source": [
    "print \"forward AIC selected:\", len(np.flatnonzero(fAICcoef))\n",
    "print \"backward AIC selected\",len(np.flatnonzero(bAICcoef))\n",
    "print \"forward BIC selected\",len(np.flatnonzero(fBICcoef))\n",
    "print \"backward BIC selected\",len(np.flatnonzero(bBICcoef))\n"
   ]
  },
  {
   "cell_type": "markdown",
   "metadata": {},
   "source": [
    "### the computational efficiency order is: \n",
    " 'k=2 cv' > 'k=5 cv' > 'k=10 cv' > 'forward AIC' = 'backward AIC' = 'forward BIC' = 'backward BIC' > 'LOOCV'"
   ]
  },
  {
   "cell_type": "markdown",
   "metadata": {
    "collapsed": true
   },
   "source": [
    "## Problem 5"
   ]
  },
  {
   "cell_type": "markdown",
   "metadata": {},
   "source": [
    "### 5a"
   ]
  },
  {
   "cell_type": "code",
   "execution_count": 30,
   "metadata": {
    "collapsed": false
   },
   "outputs": [],
   "source": [
    "# get 10 bootstrap samples\n",
    "from sklearn.utils import resample\n",
    "names = locals()\n",
    "for i in range(10):\n",
    "    spamBS = resample(spamTrain)\n",
    "    names['spamBS%s' % i] = spamBS"
   ]
  },
  {
   "cell_type": "code",
   "execution_count": 31,
   "metadata": {
    "collapsed": false
   },
   "outputs": [],
   "source": [
    "# get the testing set for each bootstrap sample\n",
    "index = spamTrain.index.tolist()\n",
    "for i in range(10):\n",
    "    names['spamRE%s' % i] = pd.DataFrame()\n",
    "    indexBS = names['spamBS%s' % i].index.tolist()\n",
    "    indexRE = list(set(index) - set(indexBS)) \n",
    "    for j in range(len(indexRE)):\n",
    "        names['spamRE%s' % i]=pd.concat([names['spamRE%s' % i],spamTrain.iloc[indexRE[j],:]],axis=1)\n",
    "    names['spamRE%s' % i] = names['spamRE%s' % i].T       "
   ]
  },
  {
   "cell_type": "code",
   "execution_count": 32,
   "metadata": {
    "collapsed": false
   },
   "outputs": [
    {
     "name": "stdout",
     "output_type": "stream",
     "text": [
      "5.42867543932\n"
     ]
    },
    {
     "data": {
      "text/plain": [
       "<matplotlib.legend.Legend at 0x11f6631d0>"
      ]
     },
     "execution_count": 32,
     "metadata": {},
     "output_type": "execute_result"
    },
    {
     "data": {
      "image/png": "[encoded data removed]",
      "text/plain": [
       "<matplotlib.figure.Figure at 0x11baca510>"
      ]
     },
     "metadata": {},
     "output_type": "display_data"
    }
   ],
   "source": [
    "# find the optimal regularization parameter for ridge logistc regression\n",
    "scores=list()\n",
    "for alpha in alphas:\n",
    "    ridge = LogisticRegression(penalty='l2', C = alpha)\n",
    "    aucList = list()\n",
    "    for i in range(10):\n",
    "        bsX = names['spamBS%s' % i].ix[:, spamTrain.columns != 57]\n",
    "        bsY = names['spamBS%s' % i].ix[:, 57]\n",
    "        reX = names['spamRE%s' % i].ix[:, spamTrain.columns != 57]\n",
    "        reY = names['spamRE%s' % i].ix[:, 57]\n",
    "        ridge.fit(bsX,bsY)\n",
    "        reY_hat=ridge.predict(reX)\n",
    "        aucList.append(metrics.roc_auc_score(reY, reY_hat))\n",
    "    scores.append(np.mean(aucList))\n",
    "\n",
    "optBSAlpha = alphas[np.argmax(scores)]\n",
    "print optBSAlpha\n",
    "\n",
    "plt.figure().set_size_inches(4, 3)\n",
    "plt.semilogx(alphas, scores)    \n",
    "plt.axvline(optBSAlpha, linestyle='--', color='r', label='lambda')\n",
    "plt.legend()\n"
   ]
  },
  {
   "cell_type": "markdown",
   "metadata": {
    "collapsed": true
   },
   "source": [
    "### 5b"
   ]
  },
  {
   "cell_type": "code",
   "execution_count": 33,
   "metadata": {
    "collapsed": false
   },
   "outputs": [
    {
     "data": {
      "text/plain": [
       "<matplotlib.legend.Legend at 0x11f32b990>"
      ]
     },
     "execution_count": 33,
     "metadata": {},
     "output_type": "execute_result"
    },
    {
     "data": {
      "image/png": "[encoded data removed]",
      "text/plain": [
       "<matplotlib.figure.Figure at 0x11f32b450>"
      ]
     },
     "metadata": {},
     "output_type": "display_data"
    }
   ],
   "source": [
    "ridge = LogisticRegression(C=optBSAlpha, penalty='l2')\n",
    "estcoef=list()\n",
    "stdcoefp=list()\n",
    "stdcoefm=list()\n",
    "for i in range(10):\n",
    "    bsX = names['spamBS%s' % i].ix[:, spamTrain.columns != 57]\n",
    "    bsY = names['spamBS%s' % i].ix[:, 57]\n",
    "    ridge.fit(bsX,bsY)\n",
    "    names['coef%s' % i]=ridge.coef_[0]\n",
    "\n",
    "for i in range(57):\n",
    "    tempcoef=list()\n",
    "    for j in range(10):\n",
    "        tempcoef.append(names['coef%s' % j][i])\n",
    "    estcoef.append(np.mean(tempcoef))\n",
    "    stdcoefp.append(np.mean(tempcoef)+np.std(tempcoef))\n",
    "    stdcoefm.append(np.mean(tempcoef)-np.std(tempcoef))\n",
    "\n",
    "plt.figure().set_size_inches(8, 4)\n",
    "plt.plot(estcoef,label='estimated coefficients')\n",
    "plt.plot(stdcoefp,label='+std')\n",
    "plt.plot(stdcoefm,label='-std')\n",
    "plt.xlim([0,56])\n",
    "plt.legend(loc=2,prop={'size':10}) "
   ]
  },
  {
   "cell_type": "code",
   "execution_count": null,
   "metadata": {
    "collapsed": true
   },
   "outputs": [],
   "source": []
  }
 ],
 "metadata": {
  "kernelspec": {
   "display_name": "Python [default]",
   "language": "python",
   "name": "python2"
  },
  "language_info": {
   "codemirror_mode": {
    "name": "ipython",
    "version": 2
   },
   "file_extension": ".py",
   "mimetype": "text/x-python",
   "name": "python",
   "nbconvert_exporter": "python",
   "pygments_lexer": "ipython2",
   "version": "2.7.13"
  }
 },
 "nbformat": 4,
 "nbformat_minor": 2
}
