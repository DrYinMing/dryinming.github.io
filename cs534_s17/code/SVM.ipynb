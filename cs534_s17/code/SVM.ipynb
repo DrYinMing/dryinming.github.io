{
 "cells": [
  {
   "cell_type": "markdown",
   "metadata": {},
   "source": [
    "# Predicting who will survive on the Titanic (Take 2)\n",
    "\n",
    "This notebook is based on a Kaggle competition where the goal is to predict survival on the Titanic, based on real data. We used decision tree to predict survival earlier. Now we will look at using support vector machine to predict survival. The content is adapted from this [notebook](https://github.com/agconti/kaggle-titanic/blob/master/Titanic.ipynb)."
   ]
  },
  {
   "cell_type": "markdown",
   "metadata": {},
   "source": [
    "## Preprocessing\n",
    "Perform the same preprocessing steps as the decision tree example, which is to drop samples with NaN values and remove name and ticket variables."
   ]
  },
  {
   "cell_type": "code",
   "execution_count": null,
   "metadata": {
    "collapsed": false
   },
   "outputs": [],
   "source": [
    "import numpy as np\n",
    "import pandas as pd\n",
    "from sklearn import svm\n",
    "from sklearn import model_selection\n",
    "import matplotlib.pyplot as plt\n",
    "from sklearn import metrics\n",
    "%matplotlib inline\n",
    "\n",
    "titanic = pd.read_csv('data/titanic.csv')\n",
    "titanic.head()"
   ]
  },
  {
   "cell_type": "code",
   "execution_count": null,
   "metadata": {
    "collapsed": false
   },
   "outputs": [],
   "source": [
    "# let's drop name and ticket\n",
    "titanic.drop(titanic.columns[[3, 8]], axis=1, inplace=True)\n",
    "# for ease let's drop na\n",
    "titanic = titanic.dropna()\n",
    "titanic.head()"
   ]
  },
  {
   "cell_type": "code",
   "execution_count": null,
   "metadata": {
    "collapsed": false
   },
   "outputs": [],
   "source": [
    "# dummy code the variables\n",
    "cabinDummies = pd.get_dummies(titanic.Cabin, prefix='Cabin').iloc[:, 1:]\n",
    "embarkedDummies = pd.get_dummies(titanic.Embarked, prefix='Embarked').iloc[:, 1:]\n",
    "sexDummies = pd.get_dummies(titanic.Sex).iloc[:, 1:]\n",
    "# concatenate the dummy variables and drop the duplicates\n",
    "titanicDF = pd.concat([titanic, cabinDummies, embarkedDummies, sexDummies], axis=1)\n",
    "titanicDF.drop(titanicDF.columns[[3, 8, 9]], axis=1, inplace=True)\n",
    "titanicDF.columns"
   ]
  },
  {
   "cell_type": "code",
   "execution_count": null,
   "metadata": {
    "collapsed": false
   },
   "outputs": [],
   "source": [
    "# split into 60-40 train/test\n",
    "y = titanicDF.Survived.values\n",
    "X = titanicDF.drop(titanicDF.columns[[1]], axis=1)\n",
    "trainX, testX, trainY, testY = model_selection.train_test_split(X, y, test_size=0.4, random_state=5)"
   ]
  },
  {
   "cell_type": "markdown",
   "metadata": {},
   "source": [
    "### Explore the effect of the four standard kernels"
   ]
  },
  {
   "cell_type": "code",
   "execution_count": null,
   "metadata": {
    "collapsed": false
   },
   "outputs": [],
   "source": [
    "kernelTypes = ['linear', 'rbf', 'poly', 'sigmoid']\n",
    "\n",
    "results = []\n",
    "\n",
    "for kernel in kernelTypes:\n",
    "    # select some value\n",
    "    clf = svm.SVC(kernel=kernel)\n",
    "    clf.fit(trainX, trainY)\n",
    "    yTrainHat = clf.predict(trainX)\n",
    "    yTestHat = clf.predict(testX)\n",
    "    trainACC = metrics.accuracy_score(trainY, yTrainHat)\n",
    "    testACC = metrics.accuracy_score(testY, yTestHat)\n",
    "    results.append([trainACC, testACC])\n",
    "\n",
    "pd.DataFrame(results, index=kernelTypes, columns=[\"Train\", \"Test\"])"
   ]
  },
  {
   "cell_type": "code",
   "execution_count": null,
   "metadata": {
    "collapsed": false
   },
   "outputs": [],
   "source": [
    "clf = svm.SVC(kernel='poly', degree=4)\n",
    "clf.fit(trainX, trainY)\n",
    "yTestHat = clf.predict(testX)\n",
    "print metrics.accuracy_score(testY, yTestHat)\n",
    "print clf.n_support_\n",
    "clf.support_"
   ]
  }
 ],
 "metadata": {
  "kernelspec": {
   "display_name": "Python [default]",
   "language": "python",
   "name": "python2"
  },
  "language_info": {
   "codemirror_mode": {
    "name": "ipython",
    "version": 2
   },
   "file_extension": ".py",
   "mimetype": "text/x-python",
   "name": "python",
   "nbconvert_exporter": "python",
   "pygments_lexer": "ipython2",
   "version": "2.7.13"
  }
 },
 "nbformat": 4,
 "nbformat_minor": 2
}
