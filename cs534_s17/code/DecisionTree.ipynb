{
 "cells": [
  {
   "cell_type": "markdown",
   "metadata": {},
   "source": [
    "# Predicting who will survive on the Titanic \n",
    "\n",
    "This notebook is based on a Kaggle competition where the goal is to predict survival on the Titanic, based on real data. Kaggle hosts machine learning competitions where anyone can download a dataset, train a model, and test the predictions on the website. The author of the best model wins a prize. We will look at using the decision tree to predict survival"
   ]
  },
  {
   "cell_type": "code",
   "execution_count": null,
   "metadata": {
    "collapsed": false
   },
   "outputs": [],
   "source": [
    "import numpy as np\n",
    "import pandas as pd\n",
    "from sklearn import tree\n",
    "from sklearn import model_selection\n",
    "import matplotlib.pyplot as plt\n",
    "from sklearn.externals.six import StringIO\n",
    "import pydot\n",
    "from IPython.display import Image\n",
    "from sklearn import metrics\n",
    "%matplotlib inline\n",
    "\n",
    "titanic = pd.read_csv('data/titanic.csv')\n",
    "titanic.head()"
   ]
  },
  {
   "cell_type": "code",
   "execution_count": null,
   "metadata": {
    "collapsed": false
   },
   "outputs": [],
   "source": [
    "# let's drop name and ticket\n",
    "titanic.drop(titanic.columns[[3, 8]], axis=1, inplace=True)\n",
    "# for ease let's drop na\n",
    "titanic = titanic.dropna()\n",
    "titanic.head()"
   ]
  },
  {
   "cell_type": "code",
   "execution_count": null,
   "metadata": {
    "collapsed": false
   },
   "outputs": [],
   "source": [
    "# dummy code the variables\n",
    "cabinDummies = pd.get_dummies(titanic.Cabin, prefix='Cabin').iloc[:, 1:]\n",
    "embarkedDummies = pd.get_dummies(titanic.Embarked, prefix='Embarked').iloc[:, 1:]\n",
    "sexDummies = pd.get_dummies(titanic.Sex).iloc[:, 1:]\n",
    "# concatenate the dummy variables and drop the duplicates\n",
    "titanicDF = pd.concat([titanic, cabinDummies, embarkedDummies, sexDummies], axis=1)\n",
    "titanicDF.drop(titanicDF.columns[[3, 8, 9]], axis=1, inplace=True)\n",
    "titanicDF.columns"
   ]
  },
  {
   "cell_type": "code",
   "execution_count": null,
   "metadata": {
    "collapsed": false
   },
   "outputs": [],
   "source": [
    "# split into 60-40 train/test\n",
    "y = titanicDF.Survived.values\n",
    "X = titanicDF.drop(titanicDF.columns[[1]], axis=1)\n",
    "trainX, testX, trainY, testY = model_selection.train_test_split(X, y, test_size=0.4, random_state=5)"
   ]
  },
  {
   "cell_type": "code",
   "execution_count": null,
   "metadata": {
    "collapsed": false
   },
   "outputs": [],
   "source": [
    "clf = tree.DecisionTreeClassifier()\n",
    "clf.fit(trainX, trainY)"
   ]
  },
  {
   "cell_type": "code",
   "execution_count": null,
   "metadata": {
    "collapsed": false
   },
   "outputs": [],
   "source": [
    "dot_data = StringIO()  \n",
    "tree.export_graphviz(clf, out_file=dot_data,  \n",
    "                     feature_names=trainX.columns,  \n",
    "                     class_names=[\"dead\", \"alive\"],  \n",
    "                     filled=True, rounded=True, special_characters=True)  \n",
    "graph = pydot.graph_from_dot_data(dot_data.getvalue())  \n",
    "Image(graph.create_png())  "
   ]
  },
  {
   "cell_type": "code",
   "execution_count": null,
   "metadata": {
    "collapsed": false
   },
   "outputs": [],
   "source": [
    "yTrainHat = clf.predict(trainX)\n",
    "yTestHat = clf.predict(testX)\n",
    "print \"Train\", metrics.classification_report(trainY, yTrainHat)\n",
    "print \"Test\", metrics.classification_report(testY, yTestHat)"
   ]
  }
 ],
 "metadata": {
  "kernelspec": {
   "display_name": "Python [default]",
   "language": "python",
   "name": "python2"
  },
  "language_info": {
   "codemirror_mode": {
    "name": "ipython",
    "version": 2
   },
   "file_extension": ".py",
   "mimetype": "text/x-python",
   "name": "python",
   "nbconvert_exporter": "python",
   "pygments_lexer": "ipython2",
   "version": "2.7.13"
  }
 },
 "nbformat": 4,
 "nbformat_minor": 2
}
